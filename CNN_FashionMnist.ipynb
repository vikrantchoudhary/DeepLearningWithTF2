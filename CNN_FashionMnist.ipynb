{
 "nbformat": 4,
 "nbformat_minor": 2,
 "metadata": {
  "language_info": {
   "name": "python",
   "codemirror_mode": {
    "name": "ipython",
    "version": 3
   },
   "version": "3.8.0-final"
  },
  "orig_nbformat": 2,
  "file_extension": ".py",
  "mimetype": "text/x-python",
  "name": "python",
  "npconvert_exporter": "python",
  "pygments_lexer": "ipython3",
  "version": 3,
  "kernelspec": {
   "name": "python3",
   "display_name": "Python 3"
  }
 },
 "cells": [
  {
   "cell_type": "code",
   "execution_count": 10,
   "metadata": {},
   "outputs": [
    {
     "output_type": "stream",
     "name": "stdout",
     "text": "[[  0   0   1   1   0   1   0   0   0   0  34  95   0   0   0   0  52  70\n    0   0   0   2   1   0   1   0   0   0]\n [  0   0   0   1   1   0   0  11  59 111 113 182 169 226 255 188 175 162\n  105  85  31   0   0   0   1   0   0   0]\n [  0   0   1   0   0  27  89 127 127 115 101  86  81  95  91  88  78  92\n  115 136 139 126  73   1   0   0   0   0]\n [  0   0   0   0  49 117 113  95  94  97  98 102 101  98  91  97 104  97\n  101  92  95 111 128  82   1   0   0   0]\n [  0   0   0  18 118 102  92  92  92  89  94  92  86  85  88  94  92  92\n   95  99  95  98  89 126  24   0   0   0]\n [  0   0   0  59 127 102  95  94  97  91  86  91  92  88  86  89  91  99\n  102 101  98  94  99 121  57   0   0   0]\n [  0   0   0  95 118 107  98  89  84  86  86  86  89  89  85  85  92  92\n   89  89  88  97 107 111  97   0   0   0]\n [  0   0   0 111 126 123 111 102 102  94  91  88  89  91  86  86  95  97\n   91  98 104 102 111 102 111   0   0   0]\n [  0   0   0 108 107 117 146 169 111 105  91  91  88  84  88  91  92  94\n  105  97 136 162 104  97 114   0   0   0]\n [  0   0   1 118 104 114 169 130  85  86  82  85  85  85  86  88  88  92\n   92  94  95 155 104 104 123   5   0   0]\n [  0   0   4 126  97 120  92  63 104  82  86  86  84  81  82  82  82  89\n   84  99  65  89 130  92 120  27   0   0]\n [  0   0  10 123  95 121  66  52 117  78  86  84  76  86  88  84  84  85\n   81 113  55  47 149  94 124  37   0   0]\n [  0   0  14 121  98 136  70   7 140  79  88  92  81  97  85  85  91  85\n   79 130  27  24 160  98 127  43   0   0]\n [  0   0  20 115  91 149  46   0 130  88  88 105  89  89  85  94  99  92\n   82 123   8  15 160 111 121  43   0   0]\n [  0   0  31 118  89 140  13   0 113 105  97  91  94  88  94  92  97  95\n   89 128   4   0 159 118 121  39   0   0]\n [  0   0  42 120  86 133   4   0 110 113 101  92  89  91  89  97  94  97\n   89 131   0   0 155 117 126  55   0   0]\n [  0   0  55 104  86 117   1   0 127 111  92  97  94  84  98  92  95 101\n   92 130   2   0 134 104 114  68   0   0]\n [  0   0  70 104  97 105   0   0 130 105  95  97  95  89  97  95  92  99\n   98 124  11   0 113 101 108  66   0   0]\n [  0   0  76 110  99 115   0   1 131 104  98  95  98  94  95  98  91  97\n  102 120  11   0  91 118 114  68   0   0]\n [  0   0  65 115  99 114   0  15 139 102  97  92  95  95  94  98  94  97\n  102 124  14   0  79 126 118  63   0   0]\n [  0   0  49 118 105  97   0  31 139  98 102 102 101  98 101 101 101  95\n   94 131  39   0  82 118 118  52   0   0]\n [  0   0  43 113 108  91   0  63 137  89 101 102 107 105 107 107 104 102\n   91 120  55   0  82 124 118  47   0   0]\n [  0   0  43 118 114  89   0  97 121  95 102 104 107 104 104 104  97 104\n   95 111  68   0  79 123 115  44   0   0]\n [  0   0  42 120 118  69   0 114 111 104 104 105 108 108 108 108 102 105\n  104 123  92   0  75 130 124  46   0   0]\n [  0   0  44 120 117  63   0 149 124 120 120 121 124 121 118 118 117 120\n  115 123 117   0  69 117 123  49   0   0]\n [  0   0  50 117 117  69   1 149 136 131 134 134 136 131 130 131 131 137\n  133 143 147   0  75 124 117  50   0   0]\n [  0   0  65 156 150  73   0   1   0   1   2   2   2   2   2   2   2   1\n    2   4   8   0  81 134 131  63   0   0]\n [  0   0  14  50  33  10   0   0   0   0   0   0   0   0   0   0   0   0\n    0   0   0   0  20  55  59  17   0   0]]\n"
    }
   ],
   "source": [
    "import tensorflow as tf \n",
    "from tensorflow import keras\n",
    "import numpy as np \n",
    "\n",
    "\n",
    "#https://github.com/zalandoresearch/fashion-mnist\n",
    "fashion_mnist_data = keras.datasets.fashion_mnist\n",
    "\n",
    "(train_images,train_label),(test_images,test_label) = fashion_mnist_data.load_data()\n",
    "\n",
    "print(train_images[37])"
   ]
  },
  {
   "cell_type": "code",
   "execution_count": 11,
   "metadata": {},
   "outputs": [
    {
     "output_type": "stream",
     "name": "stdout",
     "text": "Train on 60000 samples\nEpoch 1/5\n60000/60000 [==============================] - 2s 38us/sample - loss: 0.4993\nEpoch 2/5\n60000/60000 [==============================] - 2s 30us/sample - loss: 0.3738\nEpoch 3/5\n60000/60000 [==============================] - 2s 29us/sample - loss: 0.3387\nEpoch 4/5\n60000/60000 [==============================] - 2s 29us/sample - loss: 0.3132\nEpoch 5/5\n60000/60000 [==============================] - 2s 29us/sample - loss: 0.2956\n"
    },
    {
     "output_type": "execute_result",
     "data": {
      "text/plain": "<tensorflow.python.keras.callbacks.History at 0x1861cd8d0>"
     },
     "metadata": {},
     "execution_count": 11
    }
   ],
   "source": [
    "#normalize \n",
    "(train_images,test_images) = (train_images/255.0,test_images/255.0)\n",
    "\n",
    "#model\n",
    "model = keras.Sequential([keras.layers.Flatten(),\n",
    "keras.layers.Dense(128 , activation=tf.nn.relu),\n",
    "keras.layers.Dense(10, activation=tf.nn.softmax)])\n",
    "\n",
    "model.compile(optimizer= 'adam',\n",
    "    loss='sparse_categorical_crossentropy')\n",
    "model.fit(train_images,train_label,epochs=5)\n",
    ""
   ]
  },
  {
   "cell_type": "code",
   "execution_count": 5,
   "metadata": {},
   "outputs": [
    {
     "output_type": "stream",
     "name": "stdout",
     "text": "10000/10000 [==============================] - 0s 24us/sample - loss: 0.5079\n"
    },
    {
     "output_type": "execute_result",
     "data": {
      "text/plain": "0.5078994019985199"
     },
     "metadata": {},
     "execution_count": 5
    }
   ],
   "source": [
    "#evaluate & test the accuracy\n",
    "model.evaluate(test_images,test_label)"
   ]
  },
  {
   "cell_type": "code",
   "execution_count": 13,
   "metadata": {},
   "outputs": [
    {
     "output_type": "stream",
     "name": "stdout",
     "text": "Train on 60000 samples\nEpoch 1/5\n60000/60000 [==============================] - 44s 736us/sample - loss: 0.4357\nEpoch 2/5\n60000/60000 [==============================] - 44s 732us/sample - loss: 0.2909\nEpoch 3/5\n60000/60000 [==============================] - 43s 720us/sample - loss: 0.2480\nEpoch 4/5\n60000/60000 [==============================] - 43s 717us/sample - loss: 0.2142\nEpoch 5/5\n60000/60000 [==============================] - 43s 716us/sample - loss: 0.1891\n"
    },
    {
     "output_type": "execute_result",
     "data": {
      "text/plain": "<tensorflow.python.keras.callbacks.History at 0x186521510>"
     },
     "metadata": {},
     "execution_count": 13
    }
   ],
   "source": [
    "#need to reshape\n",
    "(train_images,test_images) = (train_images.reshape(60000,28,28,1),test_images.reshape(10000,28,28,1))\n",
    "#model\n",
    "model = keras.Sequential([\n",
    "    keras.layers.Conv2D(64, (3,3), activation=tf.nn.relu, input_shape = (28,28,1) ),\n",
    "    keras.layers.MaxPooling2D(2,2),\n",
    "    keras.layers.Conv2D(64, (3,3), activation=tf.nn.relu),\n",
    "    keras.layers.MaxPooling2D(2,2),\n",
    "    keras.layers.Flatten(),\n",
    "    keras.layers.Dense(128 , activation=tf.nn.relu),\n",
    "    keras.layers.Dense(10, activation=tf.nn.softmax)\n",
    "    ])\n",
    "\n",
    "model.compile(optimizer= 'adam',\n",
    "    loss='sparse_categorical_crossentropy')\n",
    "model.fit(train_images,train_label,epochs=5)"
   ]
  },
  {
   "cell_type": "code",
   "execution_count": 14,
   "metadata": {},
   "outputs": [
    {
     "output_type": "stream",
     "name": "stdout",
     "text": "10000/10000 [==============================] - 1s 122us/sample - loss: 0.2696\n"
    },
    {
     "output_type": "execute_result",
     "data": {
      "text/plain": "0.2695937825441361"
     },
     "metadata": {},
     "execution_count": 14
    }
   ],
   "source": [
    "model.evaluate(test_images,test_label)"
   ]
  },
  {
   "cell_type": "code",
   "execution_count": 17,
   "metadata": {},
   "outputs": [
    {
     "output_type": "stream",
     "name": "stdout",
     "text": "[9 2 1 1 6 1 4 6 5 7 4 5 7 3 4 1 2 4 8 0 2 5 7 9 1 4 6 0 9 3 8 8 3 3 8 0 7\n 5 7 9 6 1 3 7 6 7 2 1 2 2 4 4 5 8 2 2 8 4 8 0 7 7 8 5 1 1 2 3 9 8 7 0 2 6\n 2 3 1 2 8 4 1 8 5 9 5 0 3 2 0 6 5 3 6 7 1 8 0 1 4 2]\n"
    }
   ],
   "source": [
    "#visualization the progress\n",
    "print(test_label[:100])"
   ]
  },
  {
   "cell_type": "code",
   "execution_count": 18,
   "metadata": {},
   "outputs": [
    {
     "output_type": "error",
     "ename": "TypeError",
     "evalue": "'module' object is not iterable",
     "traceback": [
      "\u001b[0;31m---------------------------------------------------------------------------\u001b[0m",
      "\u001b[0;31mTypeError\u001b[0m                                 Traceback (most recent call last)",
      "\u001b[0;32m<ipython-input-18-f1c2ec03f37a>\u001b[0m in \u001b[0;36m<module>\u001b[0;34m\u001b[0m\n\u001b[1;32m      6\u001b[0m \u001b[0mCON_NUM\u001b[0m \u001b[0;34m=\u001b[0m \u001b[0;36m1\u001b[0m\u001b[0;34m\u001b[0m\u001b[0;34m\u001b[0m\u001b[0m\n\u001b[1;32m      7\u001b[0m \u001b[0;34m\u001b[0m\u001b[0m\n\u001b[0;32m----> 8\u001b[0;31m \u001b[0mlayer_outputs\u001b[0m \u001b[0;34m=\u001b[0m \u001b[0;34m[\u001b[0m\u001b[0mlayers\u001b[0m\u001b[0;34m.\u001b[0m\u001b[0moutput\u001b[0m \u001b[0;32mfor\u001b[0m \u001b[0mlayer\u001b[0m \u001b[0;32min\u001b[0m \u001b[0mtf\u001b[0m\u001b[0;34m.\u001b[0m\u001b[0mkeras\u001b[0m\u001b[0;34m.\u001b[0m\u001b[0mmodels\u001b[0m\u001b[0;34m]\u001b[0m\u001b[0;34m\u001b[0m\u001b[0;34m\u001b[0m\u001b[0m\n\u001b[0m\u001b[1;32m      9\u001b[0m \u001b[0mactivation_model\u001b[0m \u001b[0;34m=\u001b[0m \u001b[0mtf\u001b[0m\u001b[0;34m.\u001b[0m\u001b[0mkeras\u001b[0m\u001b[0;34m.\u001b[0m\u001b[0mmodels\u001b[0m\u001b[0;34m.\u001b[0m\u001b[0mModel\u001b[0m\u001b[0;34m(\u001b[0m\u001b[0minput\u001b[0m \u001b[0;34m=\u001b[0m \u001b[0mmodel\u001b[0m\u001b[0;34m.\u001b[0m\u001b[0minput\u001b[0m \u001b[0;34m,\u001b[0m \u001b[0moutputs\u001b[0m \u001b[0;34m=\u001b[0m \u001b[0mlayer_outputs\u001b[0m \u001b[0;34m)\u001b[0m\u001b[0;34m\u001b[0m\u001b[0;34m\u001b[0m\u001b[0m\n\u001b[1;32m     10\u001b[0m \u001b[0;34m\u001b[0m\u001b[0m\n",
      "\u001b[0;31mTypeError\u001b[0m: 'module' object is not iterable"
     ]
    }
   ],
   "source": [
    "import matplotlib.pyplot as plt \n",
    "f,axarr = plt.subplots(3,4)\n",
    "FirstImage =  0\n",
    "SecondImage =  7\n",
    "ThirdImage = 33\n",
    "CON_NUM = 1\n",
    "\n",
    "layer_outputs = [layers.output for layer in tf.keras.model.layer]\n",
    "activation_model = tf.keras.models.Model(input = model.input , outputs = layer_outputs )\n",
    "\n",
    "for x in range(0,4) :\n",
    "    f1 = activation_model.predict(test_images[FirstImage].reshape(1,28,28,1))[x]\n",
    "    axarr[0,x].imshow(f1[0, : , : , CON_NUM],cmap = 'inferno')\n",
    "    axarr[0,x].grid(False)\n",
    "\n",
    "    f2 = activation_model.predict(test_images[SecondImage].reshape(1,28,28,1))[x]\n",
    "    axarr[1,x].imshow(f2[0, : , : , CON_NUM],cmap = 'inferno')\n",
    "    axarr[1,x].grid(False)\n",
    "\n",
    "    f2 = activation_model.predict(test_images[ThirdImage].reshape(1,28,28,1))[x]\n",
    "    axarr[1,x].imshow(f2[0, : , : , CON_NUM],cmap = 'inferno')\n",
    "    axarr[1,x].grid(False)\n"
   ]
  },
  {
   "cell_type": "code",
   "execution_count": null,
   "metadata": {},
   "outputs": [],
   "source": []
  }
 ]
}